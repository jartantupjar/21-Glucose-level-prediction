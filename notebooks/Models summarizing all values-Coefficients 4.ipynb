{
 "cells": [
  {
   "cell_type": "code",
   "execution_count": 1,
   "metadata": {},
   "outputs": [
    {
     "name": "stderr",
     "output_type": "stream",
     "text": [
      "C:\\Users\\ndrs\\Anaconda3\\lib\\site-packages\\sklearn\\ensemble\\weight_boosting.py:29: DeprecationWarning: numpy.core.umath_tests is an internal NumPy module and should not be imported. It will be removed in a future NumPy release.\n",
      "  from numpy.core.umath_tests import inner1d\n"
     ]
    }
   ],
   "source": [
    "import matplotlib.pyplot as plt\n",
    "%matplotlib inline\n",
    "import numpy as np\n",
    "import pandas as pd\n",
    "from IPython.display import display\n",
    "from sklearn.linear_model import LinearRegression,SGDRegressor\n",
    "from sklearn.tree import DecisionTreeRegressor\n",
    "from sklearn.ensemble import RandomForestRegressor,GradientBoostingRegressor,AdaBoostRegressor\n",
    "from sklearn.neighbors import KNeighborsRegressor\n",
    "from sklearn.neural_network import MLPRegressor\n",
    "from sklearn.model_selection import train_test_split\n",
    "from methods import *"
   ]
  },
  {
   "cell_type": "code",
   "execution_count": 2,
   "metadata": {},
   "outputs": [
    {
     "data": {
      "text/html": [
       "<div>\n",
       "<style scoped>\n",
       "    .dataframe tbody tr th:only-of-type {\n",
       "        vertical-align: middle;\n",
       "    }\n",
       "\n",
       "    .dataframe tbody tr th {\n",
       "        vertical-align: top;\n",
       "    }\n",
       "\n",
       "    .dataframe thead th {\n",
       "        text-align: right;\n",
       "    }\n",
       "</style>\n",
       "<table border=\"1\" class=\"dataframe\">\n",
       "  <thead>\n",
       "    <tr style=\"text-align: right;\">\n",
       "      <th></th>\n",
       "      <th>1</th>\n",
       "      <th>2</th>\n",
       "      <th>3</th>\n",
       "      <th>4</th>\n",
       "      <th>5</th>\n",
       "      <th>6</th>\n",
       "      <th>7</th>\n",
       "      <th>8</th>\n",
       "      <th>9</th>\n",
       "      <th>10</th>\n",
       "      <th>...</th>\n",
       "      <th>72</th>\n",
       "      <th>73</th>\n",
       "      <th>74</th>\n",
       "      <th>75</th>\n",
       "      <th>76</th>\n",
       "      <th>77</th>\n",
       "      <th>78</th>\n",
       "      <th>79</th>\n",
       "      <th>80</th>\n",
       "      <th>BG VAL</th>\n",
       "    </tr>\n",
       "  </thead>\n",
       "  <tbody>\n",
       "    <tr>\n",
       "      <th>45</th>\n",
       "      <td>501.0</td>\n",
       "      <td>508.0</td>\n",
       "      <td>507.0</td>\n",
       "      <td>508.0</td>\n",
       "      <td>513.0</td>\n",
       "      <td>515.0</td>\n",
       "      <td>517.0</td>\n",
       "      <td>518.0</td>\n",
       "      <td>517.0</td>\n",
       "      <td>510.0</td>\n",
       "      <td>...</td>\n",
       "      <td>292.0</td>\n",
       "      <td>291.0</td>\n",
       "      <td>292.0</td>\n",
       "      <td>293.0</td>\n",
       "      <td>293.0</td>\n",
       "      <td>291.0</td>\n",
       "      <td>292.0</td>\n",
       "      <td>292.0</td>\n",
       "      <td>291.0</td>\n",
       "      <td>115.0</td>\n",
       "    </tr>\n",
       "    <tr>\n",
       "      <th>46</th>\n",
       "      <td>165.0</td>\n",
       "      <td>162.0</td>\n",
       "      <td>162.0</td>\n",
       "      <td>161.0</td>\n",
       "      <td>160.0</td>\n",
       "      <td>163.0</td>\n",
       "      <td>163.0</td>\n",
       "      <td>163.0</td>\n",
       "      <td>163.0</td>\n",
       "      <td>164.0</td>\n",
       "      <td>...</td>\n",
       "      <td>165.0</td>\n",
       "      <td>165.0</td>\n",
       "      <td>166.0</td>\n",
       "      <td>166.0</td>\n",
       "      <td>165.0</td>\n",
       "      <td>166.0</td>\n",
       "      <td>166.0</td>\n",
       "      <td>166.0</td>\n",
       "      <td>166.0</td>\n",
       "      <td>328.0</td>\n",
       "    </tr>\n",
       "    <tr>\n",
       "      <th>47</th>\n",
       "      <td>127.0</td>\n",
       "      <td>121.0</td>\n",
       "      <td>122.0</td>\n",
       "      <td>122.0</td>\n",
       "      <td>121.0</td>\n",
       "      <td>121.0</td>\n",
       "      <td>119.0</td>\n",
       "      <td>118.0</td>\n",
       "      <td>117.0</td>\n",
       "      <td>117.0</td>\n",
       "      <td>...</td>\n",
       "      <td>130.0</td>\n",
       "      <td>130.0</td>\n",
       "      <td>130.0</td>\n",
       "      <td>130.0</td>\n",
       "      <td>130.0</td>\n",
       "      <td>129.0</td>\n",
       "      <td>129.0</td>\n",
       "      <td>129.0</td>\n",
       "      <td>129.0</td>\n",
       "      <td>179.0</td>\n",
       "    </tr>\n",
       "    <tr>\n",
       "      <th>48</th>\n",
       "      <td>602.0</td>\n",
       "      <td>601.0</td>\n",
       "      <td>600.0</td>\n",
       "      <td>600.0</td>\n",
       "      <td>601.0</td>\n",
       "      <td>601.0</td>\n",
       "      <td>601.0</td>\n",
       "      <td>600.0</td>\n",
       "      <td>601.0</td>\n",
       "      <td>600.0</td>\n",
       "      <td>...</td>\n",
       "      <td>668.0</td>\n",
       "      <td>668.0</td>\n",
       "      <td>668.0</td>\n",
       "      <td>668.0</td>\n",
       "      <td>668.0</td>\n",
       "      <td>666.0</td>\n",
       "      <td>666.0</td>\n",
       "      <td>665.0</td>\n",
       "      <td>665.0</td>\n",
       "      <td>187.0</td>\n",
       "    </tr>\n",
       "    <tr>\n",
       "      <th>49</th>\n",
       "      <td>448.0</td>\n",
       "      <td>442.0</td>\n",
       "      <td>463.0</td>\n",
       "      <td>459.0</td>\n",
       "      <td>468.0</td>\n",
       "      <td>465.0</td>\n",
       "      <td>471.0</td>\n",
       "      <td>450.0</td>\n",
       "      <td>459.0</td>\n",
       "      <td>451.0</td>\n",
       "      <td>...</td>\n",
       "      <td>303.0</td>\n",
       "      <td>295.0</td>\n",
       "      <td>279.0</td>\n",
       "      <td>296.0</td>\n",
       "      <td>292.0</td>\n",
       "      <td>283.0</td>\n",
       "      <td>291.0</td>\n",
       "      <td>293.0</td>\n",
       "      <td>270.0</td>\n",
       "      <td>216.0</td>\n",
       "    </tr>\n",
       "    <tr>\n",
       "      <th>50</th>\n",
       "      <td>731.0</td>\n",
       "      <td>738.0</td>\n",
       "      <td>739.0</td>\n",
       "      <td>733.0</td>\n",
       "      <td>731.0</td>\n",
       "      <td>724.0</td>\n",
       "      <td>720.0</td>\n",
       "      <td>709.0</td>\n",
       "      <td>698.0</td>\n",
       "      <td>689.0</td>\n",
       "      <td>...</td>\n",
       "      <td>721.0</td>\n",
       "      <td>719.0</td>\n",
       "      <td>717.0</td>\n",
       "      <td>716.0</td>\n",
       "      <td>712.0</td>\n",
       "      <td>709.0</td>\n",
       "      <td>707.0</td>\n",
       "      <td>701.0</td>\n",
       "      <td>690.0</td>\n",
       "      <td>93.0</td>\n",
       "    </tr>\n",
       "    <tr>\n",
       "      <th>51</th>\n",
       "      <td>617.0</td>\n",
       "      <td>633.0</td>\n",
       "      <td>629.0</td>\n",
       "      <td>615.0</td>\n",
       "      <td>616.0</td>\n",
       "      <td>616.0</td>\n",
       "      <td>616.0</td>\n",
       "      <td>621.0</td>\n",
       "      <td>622.0</td>\n",
       "      <td>626.0</td>\n",
       "      <td>...</td>\n",
       "      <td>658.0</td>\n",
       "      <td>654.0</td>\n",
       "      <td>651.0</td>\n",
       "      <td>637.0</td>\n",
       "      <td>638.0</td>\n",
       "      <td>633.0</td>\n",
       "      <td>649.0</td>\n",
       "      <td>661.0</td>\n",
       "      <td>662.0</td>\n",
       "      <td>150.0</td>\n",
       "    </tr>\n",
       "    <tr>\n",
       "      <th>52</th>\n",
       "      <td>686.0</td>\n",
       "      <td>693.0</td>\n",
       "      <td>701.0</td>\n",
       "      <td>698.0</td>\n",
       "      <td>695.0</td>\n",
       "      <td>694.0</td>\n",
       "      <td>696.0</td>\n",
       "      <td>693.0</td>\n",
       "      <td>696.0</td>\n",
       "      <td>699.0</td>\n",
       "      <td>...</td>\n",
       "      <td>378.0</td>\n",
       "      <td>381.0</td>\n",
       "      <td>385.0</td>\n",
       "      <td>390.0</td>\n",
       "      <td>385.0</td>\n",
       "      <td>386.0</td>\n",
       "      <td>394.0</td>\n",
       "      <td>386.0</td>\n",
       "      <td>387.0</td>\n",
       "      <td>94.0</td>\n",
       "    </tr>\n",
       "    <tr>\n",
       "      <th>53</th>\n",
       "      <td>857.0</td>\n",
       "      <td>851.0</td>\n",
       "      <td>848.0</td>\n",
       "      <td>848.0</td>\n",
       "      <td>845.0</td>\n",
       "      <td>841.0</td>\n",
       "      <td>839.0</td>\n",
       "      <td>835.0</td>\n",
       "      <td>834.0</td>\n",
       "      <td>836.0</td>\n",
       "      <td>...</td>\n",
       "      <td>808.0</td>\n",
       "      <td>806.0</td>\n",
       "      <td>810.0</td>\n",
       "      <td>808.0</td>\n",
       "      <td>810.0</td>\n",
       "      <td>802.0</td>\n",
       "      <td>802.0</td>\n",
       "      <td>806.0</td>\n",
       "      <td>803.0</td>\n",
       "      <td>119.0</td>\n",
       "    </tr>\n",
       "    <tr>\n",
       "      <th>54</th>\n",
       "      <td>602.0</td>\n",
       "      <td>605.0</td>\n",
       "      <td>613.0</td>\n",
       "      <td>619.0</td>\n",
       "      <td>626.0</td>\n",
       "      <td>630.0</td>\n",
       "      <td>636.0</td>\n",
       "      <td>636.0</td>\n",
       "      <td>638.0</td>\n",
       "      <td>640.0</td>\n",
       "      <td>...</td>\n",
       "      <td>706.0</td>\n",
       "      <td>705.0</td>\n",
       "      <td>706.0</td>\n",
       "      <td>704.0</td>\n",
       "      <td>706.0</td>\n",
       "      <td>705.0</td>\n",
       "      <td>700.0</td>\n",
       "      <td>701.0</td>\n",
       "      <td>698.0</td>\n",
       "      <td>138.0</td>\n",
       "    </tr>\n",
       "  </tbody>\n",
       "</table>\n",
       "<p>10 rows × 81 columns</p>\n",
       "</div>"
      ],
      "text/plain": [
       "        1      2      3      4      5      6      7      8      9     10  \\\n",
       "45  501.0  508.0  507.0  508.0  513.0  515.0  517.0  518.0  517.0  510.0   \n",
       "46  165.0  162.0  162.0  161.0  160.0  163.0  163.0  163.0  163.0  164.0   \n",
       "47  127.0  121.0  122.0  122.0  121.0  121.0  119.0  118.0  117.0  117.0   \n",
       "48  602.0  601.0  600.0  600.0  601.0  601.0  601.0  600.0  601.0  600.0   \n",
       "49  448.0  442.0  463.0  459.0  468.0  465.0  471.0  450.0  459.0  451.0   \n",
       "50  731.0  738.0  739.0  733.0  731.0  724.0  720.0  709.0  698.0  689.0   \n",
       "51  617.0  633.0  629.0  615.0  616.0  616.0  616.0  621.0  622.0  626.0   \n",
       "52  686.0  693.0  701.0  698.0  695.0  694.0  696.0  693.0  696.0  699.0   \n",
       "53  857.0  851.0  848.0  848.0  845.0  841.0  839.0  835.0  834.0  836.0   \n",
       "54  602.0  605.0  613.0  619.0  626.0  630.0  636.0  636.0  638.0  640.0   \n",
       "\n",
       "     ...       72     73     74     75     76     77     78     79     80  \\\n",
       "45   ...    292.0  291.0  292.0  293.0  293.0  291.0  292.0  292.0  291.0   \n",
       "46   ...    165.0  165.0  166.0  166.0  165.0  166.0  166.0  166.0  166.0   \n",
       "47   ...    130.0  130.0  130.0  130.0  130.0  129.0  129.0  129.0  129.0   \n",
       "48   ...    668.0  668.0  668.0  668.0  668.0  666.0  666.0  665.0  665.0   \n",
       "49   ...    303.0  295.0  279.0  296.0  292.0  283.0  291.0  293.0  270.0   \n",
       "50   ...    721.0  719.0  717.0  716.0  712.0  709.0  707.0  701.0  690.0   \n",
       "51   ...    658.0  654.0  651.0  637.0  638.0  633.0  649.0  661.0  662.0   \n",
       "52   ...    378.0  381.0  385.0  390.0  385.0  386.0  394.0  386.0  387.0   \n",
       "53   ...    808.0  806.0  810.0  808.0  810.0  802.0  802.0  806.0  803.0   \n",
       "54   ...    706.0  705.0  706.0  704.0  706.0  705.0  700.0  701.0  698.0   \n",
       "\n",
       "    BG VAL  \n",
       "45   115.0  \n",
       "46   328.0  \n",
       "47   179.0  \n",
       "48   187.0  \n",
       "49   216.0  \n",
       "50    93.0  \n",
       "51   150.0  \n",
       "52    94.0  \n",
       "53   119.0  \n",
       "54   138.0  \n",
       "\n",
       "[10 rows x 81 columns]"
      ]
     },
     "execution_count": 2,
     "metadata": {},
     "output_type": "execute_result"
    }
   ],
   "source": [
    "raw_data=pd.read_excel('Book3.xlsx',sheet_name='Sheet1')\n",
    "raw_data.reset_index(drop=True,inplace=True)\n",
    "raw_data.drop(['READINGS','Unnamed: 0','Unnamed: 82','Unnamed: 83'],axis=1,inplace=True)\n",
    "raw_data=raw_data[:-3]\n",
    "#raw_data.fillna(0,)\n",
    "#raw_data.dropna(inplace=True,axis=1)\n",
    "#raw_data.head(3)\n",
    "raw_data.tail(10)"
   ]
  },
  {
   "cell_type": "code",
   "execution_count": 5,
   "metadata": {},
   "outputs": [],
   "source": [
    "#raw_data=scale_numerical_data(raw_data)\n",
    "X,y=raw_data.drop(['BG VAL'],axis=1),raw_data['BG VAL']\n",
    "#X=scale_numerical_data(X)\n",
    "random_state=42"
   ]
  },
  {
   "cell_type": "code",
   "execution_count": 6,
   "metadata": {},
   "outputs": [
    {
     "data": {
      "text/html": [
       "<div>\n",
       "<style scoped>\n",
       "    .dataframe tbody tr th:only-of-type {\n",
       "        vertical-align: middle;\n",
       "    }\n",
       "\n",
       "    .dataframe tbody tr th {\n",
       "        vertical-align: top;\n",
       "    }\n",
       "\n",
       "    .dataframe thead th {\n",
       "        text-align: right;\n",
       "    }\n",
       "</style>\n",
       "<table border=\"1\" class=\"dataframe\">\n",
       "  <thead>\n",
       "    <tr style=\"text-align: right;\">\n",
       "      <th></th>\n",
       "      <th>min</th>\n",
       "      <th>avg</th>\n",
       "      <th>std</th>\n",
       "      <th>mode</th>\n",
       "      <th>max-min</th>\n",
       "    </tr>\n",
       "  </thead>\n",
       "  <tbody>\n",
       "    <tr>\n",
       "      <th>0</th>\n",
       "      <td>151.0</td>\n",
       "      <td>162.5375</td>\n",
       "      <td>11.841724</td>\n",
       "      <td>153.0</td>\n",
       "      <td>86.0</td>\n",
       "    </tr>\n",
       "    <tr>\n",
       "      <th>1</th>\n",
       "      <td>159.0</td>\n",
       "      <td>225.3000</td>\n",
       "      <td>33.349473</td>\n",
       "      <td>170.0</td>\n",
       "      <td>116.0</td>\n",
       "    </tr>\n",
       "    <tr>\n",
       "      <th>2</th>\n",
       "      <td>146.0</td>\n",
       "      <td>179.9750</td>\n",
       "      <td>31.804774</td>\n",
       "      <td>176.0</td>\n",
       "      <td>117.0</td>\n",
       "    </tr>\n",
       "  </tbody>\n",
       "</table>\n",
       "</div>"
      ],
      "text/plain": [
       "     min       avg        std   mode  max-min\n",
       "0  151.0  162.5375  11.841724  153.0     86.0\n",
       "1  159.0  225.3000  33.349473  170.0    116.0\n",
       "2  146.0  179.9750  31.804774  176.0    117.0"
      ]
     },
     "execution_count": 6,
     "metadata": {},
     "output_type": "execute_result"
    }
   ],
   "source": [
    "summary_data=gen_summary_data(X)\n",
    "summary_data.head(3)"
   ]
  },
  {
   "cell_type": "code",
   "execution_count": 7,
   "metadata": {},
   "outputs": [],
   "source": [
    "x_train,x_test,y_train,y_test=train_test_split(summary_data,y,test_size=0.1,random_state=random_state)"
   ]
  },
  {
   "cell_type": "code",
   "execution_count": 8,
   "metadata": {
    "scrolled": true
   },
   "outputs": [
    {
     "name": "stdout",
     "output_type": "stream",
     "text": [
      "**Model name:  LinearRegression\n",
      "[170.47981469 135.31253182 163.4494312  159.32277275 127.89679722\n",
      " 180.65425544]\n",
      " ERROR MEASURES \n",
      "Root Mean Squared Error:  59.39047902816951\n",
      "Mean Absolute Error:  47.693591123328304\n",
      "Mean Absolute Percent Error:  30.75728967211359\n",
      "R2 score:  -9.070191236046073\n"
     ]
    },
    {
     "data": {
      "image/png": "[encoded data removed]",
      "text/plain": [
       "<Figure size 432x288 with 1 Axes>"
      ]
     },
     "metadata": {},
     "output_type": "display_data"
    },
    {
     "data": {
      "image/png": "[encoded data removed]",
      "text/plain": [
       "<Figure size 432x288 with 1 Axes>"
      ]
     },
     "metadata": {},
     "output_type": "display_data"
    },
    {
     "data": {
      "text/html": [
       "<div>\n",
       "<style scoped>\n",
       "    .dataframe tbody tr th:only-of-type {\n",
       "        vertical-align: middle;\n",
       "    }\n",
       "\n",
       "    .dataframe tbody tr th {\n",
       "        vertical-align: top;\n",
       "    }\n",
       "\n",
       "    .dataframe thead th {\n",
       "        text-align: right;\n",
       "    }\n",
       "</style>\n",
       "<table border=\"1\" class=\"dataframe\">\n",
       "  <thead>\n",
       "    <tr style=\"text-align: right;\">\n",
       "      <th></th>\n",
       "      <th>BG VAL</th>\n",
       "      <th>pred</th>\n",
       "    </tr>\n",
       "  </thead>\n",
       "  <tbody>\n",
       "    <tr>\n",
       "      <th>31</th>\n",
       "      <td>116.0</td>\n",
       "      <td>170.479815</td>\n",
       "    </tr>\n",
       "    <tr>\n",
       "      <th>5</th>\n",
       "      <td>94.0</td>\n",
       "      <td>135.312532</td>\n",
       "    </tr>\n",
       "    <tr>\n",
       "      <th>32</th>\n",
       "      <td>161.0</td>\n",
       "      <td>163.449431</td>\n",
       "    </tr>\n",
       "    <tr>\n",
       "      <th>13</th>\n",
       "      <td>278.0</td>\n",
       "      <td>159.322773</td>\n",
       "    </tr>\n",
       "    <tr>\n",
       "      <th>19</th>\n",
       "      <td>94.0</td>\n",
       "      <td>127.896797</td>\n",
       "    </tr>\n",
       "    <tr>\n",
       "      <th>49</th>\n",
       "      <td>216.0</td>\n",
       "      <td>180.654255</td>\n",
       "    </tr>\n",
       "  </tbody>\n",
       "</table>\n",
       "</div>"
      ],
      "text/plain": [
       "    BG VAL        pred\n",
       "31   116.0  170.479815\n",
       "5     94.0  135.312532\n",
       "32   161.0  163.449431\n",
       "13   278.0  159.322773\n",
       "19    94.0  127.896797\n",
       "49   216.0  180.654255"
      ]
     },
     "metadata": {},
     "output_type": "display_data"
    },
    {
     "name": "stdout",
     "output_type": "stream",
     "text": [
      "**Model name:  RandomForestRegressor\n",
      "[190.1 167.3 140.6 138.  188.3 148.1]\n",
      " ERROR MEASURES \n",
      "Root Mean Squared Error:  86.00655013815324\n",
      "Mean Absolute Error:  78.33333333333333\n",
      "Mean Absolute Percent Error:  49.113095853565945\n",
      "R2 score:  -15.21860748392126\n"
     ]
    },
    {
     "data": {
      "image/png": "[encoded data removed]",
      "text/plain": [
       "<Figure size 432x288 with 1 Axes>"
      ]
     },
     "metadata": {},
     "output_type": "display_data"
    },
    {
     "data": {
      "image/png": "[encoded data removed]",
      "text/plain": [
       "<Figure size 432x288 with 1 Axes>"
      ]
     },
     "metadata": {},
     "output_type": "display_data"
    },
    {
     "data": {
      "text/html": [
       "<div>\n",
       "<style scoped>\n",
       "    .dataframe tbody tr th:only-of-type {\n",
       "        vertical-align: middle;\n",
       "    }\n",
       "\n",
       "    .dataframe tbody tr th {\n",
       "        vertical-align: top;\n",
       "    }\n",
       "\n",
       "    .dataframe thead th {\n",
       "        text-align: right;\n",
       "    }\n",
       "</style>\n",
       "<table border=\"1\" class=\"dataframe\">\n",
       "  <thead>\n",
       "    <tr style=\"text-align: right;\">\n",
       "      <th></th>\n",
       "      <th>BG VAL</th>\n",
       "      <th>pred</th>\n",
       "    </tr>\n",
       "  </thead>\n",
       "  <tbody>\n",
       "    <tr>\n",
       "      <th>31</th>\n",
       "      <td>116.0</td>\n",
       "      <td>190.1</td>\n",
       "    </tr>\n",
       "    <tr>\n",
       "      <th>5</th>\n",
       "      <td>94.0</td>\n",
       "      <td>167.3</td>\n",
       "    </tr>\n",
       "    <tr>\n",
       "      <th>32</th>\n",
       "      <td>161.0</td>\n",
       "      <td>140.6</td>\n",
       "    </tr>\n",
       "    <tr>\n",
       "      <th>13</th>\n",
       "      <td>278.0</td>\n",
       "      <td>138.0</td>\n",
       "    </tr>\n",
       "    <tr>\n",
       "      <th>19</th>\n",
       "      <td>94.0</td>\n",
       "      <td>188.3</td>\n",
       "    </tr>\n",
       "    <tr>\n",
       "      <th>49</th>\n",
       "      <td>216.0</td>\n",
       "      <td>148.1</td>\n",
       "    </tr>\n",
       "  </tbody>\n",
       "</table>\n",
       "</div>"
      ],
      "text/plain": [
       "    BG VAL   pred\n",
       "31   116.0  190.1\n",
       "5     94.0  167.3\n",
       "32   161.0  140.6\n",
       "13   278.0  138.0\n",
       "19    94.0  188.3\n",
       "49   216.0  148.1"
      ]
     },
     "metadata": {},
     "output_type": "display_data"
    },
    {
     "data": {
      "image/png": "[encoded data removed]",
      "text/plain": [
       "<Figure size 1080x360 with 1 Axes>"
      ]
     },
     "metadata": {},
     "output_type": "display_data"
    },
    {
     "name": "stdout",
     "output_type": "stream",
     "text": [
      "**Model name:  GradientBoostingRegressor\n",
      "[262.36085737 176.72315311 157.93436582 110.04785953 133.5402561\n",
      " 110.81218738]\n",
      " ERROR MEASURES \n",
      "Root Mean Squared Error:  107.32338049892579\n",
      "Mean Absolute Error:  90.80497564250673\n",
      "Mean Absolute Percent Error:  63.61460654148555\n",
      "R2 score:  -3.223239828365929\n"
     ]
    },
    {
     "data": {
      "image/png": "[encoded data removed]",
      "text/plain": [
       "<Figure size 432x288 with 1 Axes>"
      ]
     },
     "metadata": {},
     "output_type": "display_data"
    },
    {
     "data": {
      "image/png": "[encoded data removed]",
      "text/plain": [
       "<Figure size 432x288 with 1 Axes>"
      ]
     },
     "metadata": {},
     "output_type": "display_data"
    },
    {
     "data": {
      "text/html": [
       "<div>\n",
       "<style scoped>\n",
       "    .dataframe tbody tr th:only-of-type {\n",
       "        vertical-align: middle;\n",
       "    }\n",
       "\n",
       "    .dataframe tbody tr th {\n",
       "        vertical-align: top;\n",
       "    }\n",
       "\n",
       "    .dataframe thead th {\n",
       "        text-align: right;\n",
       "    }\n",
       "</style>\n",
       "<table border=\"1\" class=\"dataframe\">\n",
       "  <thead>\n",
       "    <tr style=\"text-align: right;\">\n",
       "      <th></th>\n",
       "      <th>BG VAL</th>\n",
       "      <th>pred</th>\n",
       "    </tr>\n",
       "  </thead>\n",
       "  <tbody>\n",
       "    <tr>\n",
       "      <th>31</th>\n",
       "      <td>116.0</td>\n",
       "      <td>262.360857</td>\n",
       "    </tr>\n",
       "    <tr>\n",
       "      <th>5</th>\n",
       "      <td>94.0</td>\n",
       "      <td>176.723153</td>\n",
       "    </tr>\n",
       "    <tr>\n",
       "      <th>32</th>\n",
       "      <td>161.0</td>\n",
       "      <td>157.934366</td>\n",
       "    </tr>\n",
       "    <tr>\n",
       "      <th>13</th>\n",
       "      <td>278.0</td>\n",
       "      <td>110.047860</td>\n",
       "    </tr>\n",
       "    <tr>\n",
       "      <th>19</th>\n",
       "      <td>94.0</td>\n",
       "      <td>133.540256</td>\n",
       "    </tr>\n",
       "    <tr>\n",
       "      <th>49</th>\n",
       "      <td>216.0</td>\n",
       "      <td>110.812187</td>\n",
       "    </tr>\n",
       "  </tbody>\n",
       "</table>\n",
       "</div>"
      ],
      "text/plain": [
       "    BG VAL        pred\n",
       "31   116.0  262.360857\n",
       "5     94.0  176.723153\n",
       "32   161.0  157.934366\n",
       "13   278.0  110.047860\n",
       "19    94.0  133.540256\n",
       "49   216.0  110.812187"
      ]
     },
     "metadata": {},
     "output_type": "display_data"
    },
    {
     "data": {
      "image/png": "[encoded data removed]",
      "text/plain": [
       "<Figure size 1080x360 with 1 Axes>"
      ]
     },
     "metadata": {},
     "output_type": "display_data"
    },
    {
     "name": "stdout",
     "output_type": "stream",
     "text": [
      "**Model name:  KNeighborsRegressor\n",
      "[192.8 159.4 122.6 122.6 164.2 192.8]\n",
      " ERROR MEASURES \n",
      "Root Mean Squared Error:  82.93109589693523\n",
      "Mean Absolute Error:  71.56666666666666\n",
      "Mean Absolute Percent Error:  48.953976579776295\n",
      "R2 score:  -7.316328449971515\n"
     ]
    },
    {
     "data": {
      "image/png": "[encoded data removed]",
      "text/plain": [
       "<Figure size 432x288 with 1 Axes>"
      ]
     },
     "metadata": {},
     "output_type": "display_data"
    },
    {
     "data": {
      "image/png": "[encoded data removed]",
      "text/plain": [
       "<Figure size 432x288 with 1 Axes>"
      ]
     },
     "metadata": {},
     "output_type": "display_data"
    },
    {
     "data": {
      "text/html": [
       "<div>\n",
       "<style scoped>\n",
       "    .dataframe tbody tr th:only-of-type {\n",
       "        vertical-align: middle;\n",
       "    }\n",
       "\n",
       "    .dataframe tbody tr th {\n",
       "        vertical-align: top;\n",
       "    }\n",
       "\n",
       "    .dataframe thead th {\n",
       "        text-align: right;\n",
       "    }\n",
       "</style>\n",
       "<table border=\"1\" class=\"dataframe\">\n",
       "  <thead>\n",
       "    <tr style=\"text-align: right;\">\n",
       "      <th></th>\n",
       "      <th>BG VAL</th>\n",
       "      <th>pred</th>\n",
       "    </tr>\n",
       "  </thead>\n",
       "  <tbody>\n",
       "    <tr>\n",
       "      <th>31</th>\n",
       "      <td>116.0</td>\n",
       "      <td>192.8</td>\n",
       "    </tr>\n",
       "    <tr>\n",
       "      <th>5</th>\n",
       "      <td>94.0</td>\n",
       "      <td>159.4</td>\n",
       "    </tr>\n",
       "    <tr>\n",
       "      <th>32</th>\n",
       "      <td>161.0</td>\n",
       "      <td>122.6</td>\n",
       "    </tr>\n",
       "    <tr>\n",
       "      <th>13</th>\n",
       "      <td>278.0</td>\n",
       "      <td>122.6</td>\n",
       "    </tr>\n",
       "    <tr>\n",
       "      <th>19</th>\n",
       "      <td>94.0</td>\n",
       "      <td>164.2</td>\n",
       "    </tr>\n",
       "    <tr>\n",
       "      <th>49</th>\n",
       "      <td>216.0</td>\n",
       "      <td>192.8</td>\n",
       "    </tr>\n",
       "  </tbody>\n",
       "</table>\n",
       "</div>"
      ],
      "text/plain": [
       "    BG VAL   pred\n",
       "31   116.0  192.8\n",
       "5     94.0  159.4\n",
       "32   161.0  122.6\n",
       "13   278.0  122.6\n",
       "19    94.0  164.2\n",
       "49   216.0  192.8"
      ]
     },
     "metadata": {},
     "output_type": "display_data"
    },
    {
     "name": "stdout",
     "output_type": "stream",
     "text": [
      "**Model name:  AdaBoostRegressor\n",
      "[271.63636364 146.         143.11111111 135.07692308 140.53125\n",
      " 133.18181818]\n",
      " ERROR MEASURES \n",
      "Root Mean Squared Error:  97.20914258701966\n",
      "Mean Absolute Error:  82.96629354441855\n",
      "Mean Absolute Percent Error:  51.08603461082898\n",
      "R2 score:  -2.870636989474927\n"
     ]
    },
    {
     "data": {
      "image/png": "[encoded data removed]",
      "text/plain": [
       "<Figure size 432x288 with 1 Axes>"
      ]
     },
     "metadata": {},
     "output_type": "display_data"
    },
    {
     "data": {
      "image/png": "[encoded data removed]",
      "text/plain": [
       "<Figure size 432x288 with 1 Axes>"
      ]
     },
     "metadata": {},
     "output_type": "display_data"
    },
    {
     "data": {
      "text/html": [
       "<div>\n",
       "<style scoped>\n",
       "    .dataframe tbody tr th:only-of-type {\n",
       "        vertical-align: middle;\n",
       "    }\n",
       "\n",
       "    .dataframe tbody tr th {\n",
       "        vertical-align: top;\n",
       "    }\n",
       "\n",
       "    .dataframe thead th {\n",
       "        text-align: right;\n",
       "    }\n",
       "</style>\n",
       "<table border=\"1\" class=\"dataframe\">\n",
       "  <thead>\n",
       "    <tr style=\"text-align: right;\">\n",
       "      <th></th>\n",
       "      <th>BG VAL</th>\n",
       "      <th>pred</th>\n",
       "    </tr>\n",
       "  </thead>\n",
       "  <tbody>\n",
       "    <tr>\n",
       "      <th>31</th>\n",
       "      <td>116.0</td>\n",
       "      <td>271.636364</td>\n",
       "    </tr>\n",
       "    <tr>\n",
       "      <th>5</th>\n",
       "      <td>94.0</td>\n",
       "      <td>146.000000</td>\n",
       "    </tr>\n",
       "    <tr>\n",
       "      <th>32</th>\n",
       "      <td>161.0</td>\n",
       "      <td>143.111111</td>\n",
       "    </tr>\n",
       "    <tr>\n",
       "      <th>13</th>\n",
       "      <td>278.0</td>\n",
       "      <td>135.076923</td>\n",
       "    </tr>\n",
       "    <tr>\n",
       "      <th>19</th>\n",
       "      <td>94.0</td>\n",
       "      <td>140.531250</td>\n",
       "    </tr>\n",
       "    <tr>\n",
       "      <th>49</th>\n",
       "      <td>216.0</td>\n",
       "      <td>133.181818</td>\n",
       "    </tr>\n",
       "  </tbody>\n",
       "</table>\n",
       "</div>"
      ],
      "text/plain": [
       "    BG VAL        pred\n",
       "31   116.0  271.636364\n",
       "5     94.0  146.000000\n",
       "32   161.0  143.111111\n",
       "13   278.0  135.076923\n",
       "19    94.0  140.531250\n",
       "49   216.0  133.181818"
      ]
     },
     "metadata": {},
     "output_type": "display_data"
    },
    {
     "data": {
      "image/png": "[encoded data removed]",
      "text/plain": [
       "<Figure size 1080x360 with 1 Axes>"
      ]
     },
     "metadata": {},
     "output_type": "display_data"
    },
    {
     "name": "stdout",
     "output_type": "stream",
     "text": [
      "**Model name:  MLPRegressor\n",
      "[ 88.93840779 239.57477448 122.44133568 132.95341553 149.84310741\n",
      " 110.76374071]\n",
      " ERROR MEASURES \n",
      "Root Mean Squared Error:  98.86248859829311\n",
      "Mean Absolute Error:  86.22016369633775\n",
      "Mean Absolute Percent Error:  60.67597930629057\n",
      "R2 score:  -3.2406763436606214\n"
     ]
    },
    {
     "data": {
      "image/png": "[encoded data removed]",
      "text/plain": [
       "<Figure size 432x288 with 1 Axes>"
      ]
     },
     "metadata": {},
     "output_type": "display_data"
    },
    {
     "data": {
      "image/png": "[encoded data removed]",
      "text/plain": [
       "<Figure size 432x288 with 1 Axes>"
      ]
     },
     "metadata": {},
     "output_type": "display_data"
    },
    {
     "data": {
      "text/html": [
       "<div>\n",
       "<style scoped>\n",
       "    .dataframe tbody tr th:only-of-type {\n",
       "        vertical-align: middle;\n",
       "    }\n",
       "\n",
       "    .dataframe tbody tr th {\n",
       "        vertical-align: top;\n",
       "    }\n",
       "\n",
       "    .dataframe thead th {\n",
       "        text-align: right;\n",
       "    }\n",
       "</style>\n",
       "<table border=\"1\" class=\"dataframe\">\n",
       "  <thead>\n",
       "    <tr style=\"text-align: right;\">\n",
       "      <th></th>\n",
       "      <th>BG VAL</th>\n",
       "      <th>pred</th>\n",
       "    </tr>\n",
       "  </thead>\n",
       "  <tbody>\n",
       "    <tr>\n",
       "      <th>31</th>\n",
       "      <td>116.0</td>\n",
       "      <td>88.938408</td>\n",
       "    </tr>\n",
       "    <tr>\n",
       "      <th>5</th>\n",
       "      <td>94.0</td>\n",
       "      <td>239.574774</td>\n",
       "    </tr>\n",
       "    <tr>\n",
       "      <th>32</th>\n",
       "      <td>161.0</td>\n",
       "      <td>122.441336</td>\n",
       "    </tr>\n",
       "    <tr>\n",
       "      <th>13</th>\n",
       "      <td>278.0</td>\n",
       "      <td>132.953416</td>\n",
       "    </tr>\n",
       "    <tr>\n",
       "      <th>19</th>\n",
       "      <td>94.0</td>\n",
       "      <td>149.843107</td>\n",
       "    </tr>\n",
       "    <tr>\n",
       "      <th>49</th>\n",
       "      <td>216.0</td>\n",
       "      <td>110.763741</td>\n",
       "    </tr>\n",
       "  </tbody>\n",
       "</table>\n",
       "</div>"
      ],
      "text/plain": [
       "    BG VAL        pred\n",
       "31   116.0   88.938408\n",
       "5     94.0  239.574774\n",
       "32   161.0  122.441336\n",
       "13   278.0  132.953416\n",
       "19    94.0  149.843107\n",
       "49   216.0  110.763741"
      ]
     },
     "metadata": {},
     "output_type": "display_data"
    },
    {
     "data": {
      "text/plain": [
       "array([0.16236231, 0.35031451, 0.14943136, 0.22905657, 0.10883525])"
      ]
     },
     "execution_count": 8,
     "metadata": {},
     "output_type": "execute_result"
    }
   ],
   "source": [
    "clf_models=[LinearRegression(),\n",
    "            RandomForestRegressor(random_state=random_state),\n",
    "            GradientBoostingRegressor(random_state=random_state),\n",
    "            KNeighborsRegressor(),\n",
    "            AdaBoostRegressor(random_state=random_state),\n",
    "            MLPRegressor()\n",
    "    ]   \n",
    "get_model_prediction(x_train,y_train,x_test,y_test,clf_models,True,True)"
   ]
  },
  {
   "cell_type": "markdown",
   "metadata": {},
   "source": [
    "## Linear Coefficient "
   ]
  },
  {
   "cell_type": "markdown",
   "metadata": {},
   "source": [
    "### Using 90% of data"
   ]
  },
  {
   "cell_type": "code",
   "execution_count": 9,
   "metadata": {
    "scrolled": false
   },
   "outputs": [
    {
     "name": "stdout",
     "output_type": "stream",
     "text": [
      " ERROR MEASURES \n",
      "Root Mean Squared Error:  59.39047902816951\n",
      "Mean Absolute Error:  47.693591123328304\n",
      "Mean Absolute Percent Error:  30.75728967211359\n",
      "R2 score:  -9.070191236046073\n"
     ]
    },
    {
     "data": {
      "image/png": "[encoded data removed]",
      "text/plain": [
       "<Figure size 432x288 with 1 Axes>"
      ]
     },
     "metadata": {},
     "output_type": "display_data"
    },
    {
     "data": {
      "image/png": "[encoded data removed]",
      "text/plain": [
       "<Figure size 432x288 with 1 Axes>"
      ]
     },
     "metadata": {},
     "output_type": "display_data"
    },
    {
     "data": {
      "text/html": [
       "<div>\n",
       "<style scoped>\n",
       "    .dataframe tbody tr th:only-of-type {\n",
       "        vertical-align: middle;\n",
       "    }\n",
       "\n",
       "    .dataframe tbody tr th {\n",
       "        vertical-align: top;\n",
       "    }\n",
       "\n",
       "    .dataframe thead th {\n",
       "        text-align: right;\n",
       "    }\n",
       "</style>\n",
       "<table border=\"1\" class=\"dataframe\">\n",
       "  <thead>\n",
       "    <tr style=\"text-align: right;\">\n",
       "      <th></th>\n",
       "      <th>BG VAL</th>\n",
       "      <th>pred</th>\n",
       "    </tr>\n",
       "  </thead>\n",
       "  <tbody>\n",
       "    <tr>\n",
       "      <th>31</th>\n",
       "      <td>116.0</td>\n",
       "      <td>170.479815</td>\n",
       "    </tr>\n",
       "    <tr>\n",
       "      <th>5</th>\n",
       "      <td>94.0</td>\n",
       "      <td>135.312532</td>\n",
       "    </tr>\n",
       "    <tr>\n",
       "      <th>32</th>\n",
       "      <td>161.0</td>\n",
       "      <td>163.449431</td>\n",
       "    </tr>\n",
       "    <tr>\n",
       "      <th>13</th>\n",
       "      <td>278.0</td>\n",
       "      <td>159.322773</td>\n",
       "    </tr>\n",
       "    <tr>\n",
       "      <th>19</th>\n",
       "      <td>94.0</td>\n",
       "      <td>127.896797</td>\n",
       "    </tr>\n",
       "    <tr>\n",
       "      <th>49</th>\n",
       "      <td>216.0</td>\n",
       "      <td>180.654255</td>\n",
       "    </tr>\n",
       "  </tbody>\n",
       "</table>\n",
       "</div>"
      ],
      "text/plain": [
       "    BG VAL        pred\n",
       "31   116.0  170.479815\n",
       "5     94.0  135.312532\n",
       "32   161.0  163.449431\n",
       "13   278.0  159.322773\n",
       "19    94.0  127.896797\n",
       "49   216.0  180.654255"
      ]
     },
     "metadata": {},
     "output_type": "display_data"
    },
    {
     "name": "stdout",
     "output_type": "stream",
     "text": [
      "the intercept of the linear model is 192.64128069356758\n",
      "The coefficient for min is -0.13510864607461878\n",
      "The coefficient for avg is -0.1065352166771144\n",
      "The coefficient for std is 0.6867779969865172\n",
      "The coefficient for mode is 0.16310963926456362\n",
      "The coefficient for max-min is -0.16882980096330236\n"
     ]
    }
   ],
   "source": [
    "model = LinearRegression()\n",
    "model.fit(x_train, y_train)\n",
    "pred=model.predict(x_test)\n",
    "clf_metrics=acc_score(y_test,pred)\n",
    "plot_test_data(y_test,pred)\n",
    "intercept = model.intercept_\n",
    "print('the intercept of the linear model is',intercept)\n",
    "for idx, col_name in enumerate(x_train.columns):\n",
    "    print(\"The coefficient for {} is {}\".format(col_name, model.coef_[idx]))"
   ]
  },
  {
   "cell_type": "markdown",
   "metadata": {},
   "source": [
    "### Using all the data"
   ]
  },
  {
   "cell_type": "code",
   "execution_count": 10,
   "metadata": {},
   "outputs": [
    {
     "name": "stdout",
     "output_type": "stream",
     "text": [
      "the intercept of the linear model is 198.7039340971379\n",
      "The coefficient for min is -0.1769019400262786\n",
      "The coefficient for avg is -0.04581579166992697\n",
      "The coefficient for std is 0.7007463404769699\n",
      "The coefficient for mode is 0.1379841237463887\n",
      "The coefficient for max-min is -0.20369664979822666\n"
     ]
    }
   ],
   "source": [
    "model = LinearRegression()\n",
    "model.fit(summary_data, y)\n",
    "#pred=model.predict(x_test)\n",
    "#clf_metrics=acc_score(y_test,pred)\n",
    "#plot_test_data(y_test,pred)\n",
    "intercept = model.intercept_\n",
    "print('the intercept of the linear model is',intercept)\n",
    "for idx, col_name in enumerate(x_train.columns):\n",
    "    print(\"The coefficient for {} is {}\".format(col_name, model.coef_[idx]))"
   ]
  },
  {
   "cell_type": "markdown",
   "metadata": {},
   "source": [
    "## load test data"
   ]
  },
  {
   "cell_type": "code",
   "execution_count": 11,
   "metadata": {
    "scrolled": true
   },
   "outputs": [
    {
     "data": {
      "text/html": [
       "<div>\n",
       "<style scoped>\n",
       "    .dataframe tbody tr th:only-of-type {\n",
       "        vertical-align: middle;\n",
       "    }\n",
       "\n",
       "    .dataframe tbody tr th {\n",
       "        vertical-align: top;\n",
       "    }\n",
       "\n",
       "    .dataframe thead th {\n",
       "        text-align: right;\n",
       "    }\n",
       "</style>\n",
       "<table border=\"1\" class=\"dataframe\">\n",
       "  <thead>\n",
       "    <tr style=\"text-align: right;\">\n",
       "      <th></th>\n",
       "      <th>min</th>\n",
       "      <th>avg</th>\n",
       "      <th>std</th>\n",
       "      <th>mode</th>\n",
       "      <th>max-min</th>\n",
       "    </tr>\n",
       "  </thead>\n",
       "  <tbody>\n",
       "    <tr>\n",
       "      <th>0</th>\n",
       "      <td>677.0</td>\n",
       "      <td>719.2375</td>\n",
       "      <td>19.605117</td>\n",
       "      <td>722.0</td>\n",
       "      <td>93.0</td>\n",
       "    </tr>\n",
       "  </tbody>\n",
       "</table>\n",
       "</div>"
      ],
      "text/plain": [
       "     min       avg        std   mode  max-min\n",
       "0  677.0  719.2375  19.605117  722.0     93.0"
      ]
     },
     "execution_count": 11,
     "metadata": {},
     "output_type": "execute_result"
    }
   ],
   "source": [
    "new_data=pd.read_excel('STANDARDS-WEARABLE-NATRAJ PREDICTION.xlsx',sheet_name='PREDICTION-DETAILS',header=None,\n",
    "                      usecols=\"G\", na_values=['Orig ADC']).dropna().T\n",
    "y_test=new_data[0]\n",
    "x_test=new_data.drop([0],axis=1)\n",
    "test_data=gen_summary_data(x_test)\n",
    "test_data.head(3)"
   ]
  },
  {
   "cell_type": "code",
   "execution_count": 12,
   "metadata": {},
   "outputs": [
    {
     "name": "stdout",
     "output_type": "stream",
     "text": [
      "**Model name:  LinearRegression\n",
      "[140.40784794]\n",
      "**Model name:  RandomForestRegressor\n",
      "[145.6]\n",
      "**Model name:  GradientBoostingRegressor\n",
      "[146.12390842]\n",
      "**Model name:  SGDRegressor\n",
      "[-3.93580143e+14]\n",
      "**Model name:  KNeighborsRegressor\n",
      "[134.8]\n",
      "**Model name:  AdaBoostRegressor\n",
      "[145.5]\n",
      "**Model name:  MLPRegressor\n",
      "[128.28865206]\n",
      "Actual Glucose Level 0    442.0\n",
      "Name: 0, dtype: float64\n"
     ]
    },
    {
     "name": "stderr",
     "output_type": "stream",
     "text": [
      "C:\\Users\\ndrs\\Anaconda3\\lib\\site-packages\\sklearn\\linear_model\\stochastic_gradient.py:128: FutureWarning: max_iter and tol parameters have been added in <class 'sklearn.linear_model.stochastic_gradient.SGDRegressor'> in 0.19. If both are left unset, they default to max_iter=5 and tol=None. If tol is not None, max_iter defaults to max_iter=1000. From 0.21, default max_iter will be 1000, and default tol will be 1e-3.\n",
      "  \"and default tol will be 1e-3.\" % type(self), FutureWarning)\n"
     ]
    }
   ],
   "source": [
    "clf_models=[LinearRegression(),\n",
    "            RandomForestRegressor(random_state=random_state),\n",
    "            GradientBoostingRegressor(random_state=random_state),\n",
    "            SGDRegressor(random_state=random_state),\n",
    "            KNeighborsRegressor(),\n",
    "            AdaBoostRegressor(random_state=random_state),\n",
    "            MLPRegressor()\n",
    "    ]\n",
    "get_model_prediction(summary_data,y,test_data,None,clf_models)\n",
    "print('Actual Glucose Level',y_test)"
   ]
  },
  {
   "cell_type": "code",
   "execution_count": null,
   "metadata": {},
   "outputs": [],
   "source": []
  },
  {
   "cell_type": "code",
   "execution_count": null,
   "metadata": {},
   "outputs": [],
   "source": []
  },
  {
   "cell_type": "code",
   "execution_count": null,
   "metadata": {},
   "outputs": [],
   "source": []
  },
  {
   "cell_type": "code",
   "execution_count": null,
   "metadata": {},
   "outputs": [],
   "source": []
  }
 ],
 "metadata": {
  "kernelspec": {
   "display_name": "Python 3",
   "language": "python",
   "name": "python3"
  },
  "language_info": {
   "codemirror_mode": {
    "name": "ipython",
    "version": 3
   },
   "file_extension": ".py",
   "mimetype": "text/x-python",
   "name": "python",
   "nbconvert_exporter": "python",
   "pygments_lexer": "ipython3",
   "version": "3.6.1"
  }
 },
 "nbformat": 4,
 "nbformat_minor": 2
}
